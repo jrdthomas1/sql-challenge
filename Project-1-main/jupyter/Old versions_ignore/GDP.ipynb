{
 "cells": [
  {
   "cell_type": "code",
   "execution_count": 6,
   "id": "f9751018-d146-4b5e-8698-218dc478fe13",
   "metadata": {},
   "outputs": [],
   "source": [
    "# Import dependencies\n",
    "import requests\n",
    "from pprint import pprint\n",
    "import json\n",
    "import pandas as pd\n",
    "import matplotlib.pyplot as plt\n",
    "from config import bea_key"
   ]
  },
  {
   "cell_type": "code",
   "execution_count": 20,
   "id": "eba537c3-c697-48f9-815b-5bb95f8efbba",
   "metadata": {},
   "outputs": [],
   "source": [
    "url = f'https://apps.bea.gov/api/data?UserID={bea_key}&'"
   ]
  },
  {
   "cell_type": "code",
   "execution_count": 28,
   "id": "a56df23a-6e69-43bb-ad14-4b82afebbfe6",
   "metadata": {},
   "outputs": [],
   "source": [
    "method = 'GetDatasetList'\n",
    "format = 'JSON'\n",
    "dataset = 'NIPA'\n"
   ]
  },
  {
   "cell_type": "code",
   "execution_count": 21,
   "id": "6bfd41fb-e370-4a55-81fe-4a9a698bbf5b",
   "metadata": {},
   "outputs": [],
   "source": [
    "response = requests.get(f\"{url}method={method}&ResultFormat={format}\").json()"
   ]
  },
  {
   "cell_type": "code",
   "execution_count": 29,
   "id": "713df17c-eeb0-492f-9daf-eb311eb87bd8",
   "metadata": {},
   "outputs": [
    {
     "data": {
      "text/plain": [
       "{'BEAAPI': {'Request': {'RequestParam': [{'ParameterName': 'USERID',\n",
       "     'ParameterValue': '9430FD6A-9951-43F7-A7C9-86BE81E0F6DA'},\n",
       "    {'ParameterName': 'METHOD', 'ParameterValue': 'GETDATASETLIST'},\n",
       "    {'ParameterName': 'RESULTFORMAT', 'ParameterValue': 'JSON'}]},\n",
       "  'Results': {'Dataset': [{'DatasetName': 'NIPA',\n",
       "     'DatasetDescription': 'Standard NIPA tables'},\n",
       "    {'DatasetName': 'NIUnderlyingDetail',\n",
       "     'DatasetDescription': 'Standard NI underlying detail tables'},\n",
       "    {'DatasetName': 'MNE', 'DatasetDescription': 'Multinational Enterprises'},\n",
       "    {'DatasetName': 'FixedAssets',\n",
       "     'DatasetDescription': 'Standard Fixed Assets tables'},\n",
       "    {'DatasetName': 'ITA',\n",
       "     'DatasetDescription': 'International Transactions Accounts'},\n",
       "    {'DatasetName': 'IIP',\n",
       "     'DatasetDescription': 'International Investment Position'},\n",
       "    {'DatasetName': 'InputOutput', 'DatasetDescription': 'Input-Output Data'},\n",
       "    {'DatasetName': 'IntlServTrade',\n",
       "     'DatasetDescription': 'International Services Trade'},\n",
       "    {'DatasetName': 'IntlServSTA',\n",
       "     'DatasetDescription': 'International Services Supplied Through Affiliates'},\n",
       "    {'DatasetName': 'GDPbyIndustry', 'DatasetDescription': 'GDP by Industry'},\n",
       "    {'DatasetName': 'Regional', 'DatasetDescription': 'Regional data sets'},\n",
       "    {'DatasetName': 'UnderlyingGDPbyIndustry',\n",
       "     'DatasetDescription': 'Underlying GDP by Industry'},\n",
       "    {'DatasetName': 'APIDatasetMetaData',\n",
       "     'DatasetDescription': 'Metadata about other API datasets'}]}}}"
      ]
     },
     "execution_count": 29,
     "metadata": {},
     "output_type": "execute_result"
    }
   ],
   "source": [
    "response"
   ]
  },
  {
   "cell_type": "code",
   "execution_count": 27,
   "id": "35d9b8a9-dbb7-4518-a5b7-9204e93f8e5b",
   "metadata": {},
   "outputs": [
    {
     "name": "stdout",
     "output_type": "stream",
     "text": [
      "NIPA                     : Standard NIPA tables\n",
      "NIUnderlyingDetail       : Standard NI underlying detail tables\n",
      "MNE                      : Multinational Enterprises\n",
      "FixedAssets              : Standard Fixed Assets tables\n",
      "ITA                      : International Transactions Accounts\n",
      "IIP                      : International Investment Position\n",
      "InputOutput              : Input-Output Data\n",
      "IntlServTrade            : International Services Trade\n",
      "IntlServSTA              : International Services Supplied Through Affiliates\n",
      "GDPbyIndustry            : GDP by Industry\n",
      "Regional                 : Regional data sets\n",
      "UnderlyingGDPbyIndustry  : Underlying GDP by Industry\n",
      "APIDatasetMetaData       : Metadata about other API datasets\n"
     ]
    }
   ],
   "source": [
    "for dataset in response['BEAAPI']['Results']['Dataset']:\n",
    "    print(f\"{dataset['DatasetName']:<25}: {dataset['DatasetDescription']}\")"
   ]
  },
  {
   "cell_type": "code",
   "execution_count": 94,
   "id": "ddb6780e-6111-47ae-b941-a6d865524a0a",
   "metadata": {},
   "outputs": [],
   "source": [
    "method = 'GetData'\n",
    "dataset = 'Regional'\n",
    "tableid = 'SAGDP2N'\n",
    "geofips = '06000'"
   ]
  },
  {
   "cell_type": "code",
   "execution_count": 99,
   "id": "cbfb7913-3cd1-4e9a-a8fa-565c1779377e",
   "metadata": {},
   "outputs": [],
   "source": [
    "CA = requests.get(f\"{url}method={method}&datasetname={dataset}&tablename={tableid}&geofips={geofips}&linecode=1&ResultFormat={format}\").json()"
   ]
  },
  {
   "cell_type": "code",
   "execution_count": 100,
   "id": "32672d20-eff4-4ac6-84aa-212f3820a0d3",
   "metadata": {},
   "outputs": [
    {
     "data": {
      "text/plain": [
       "{'BEAAPI': {'Request': {'RequestParam': [{'ParameterName': 'USERID',\n",
       "     'ParameterValue': '9430FD6A-9951-43F7-A7C9-86BE81E0F6DA'},\n",
       "    {'ParameterName': 'METHOD', 'ParameterValue': 'GETDATA'},\n",
       "    {'ParameterName': 'DATASETNAME', 'ParameterValue': 'REGIONAL'},\n",
       "    {'ParameterName': 'TABLENAME', 'ParameterValue': 'SAGDP2N'},\n",
       "    {'ParameterName': 'GEOFIPS', 'ParameterValue': '06000'},\n",
       "    {'ParameterName': 'LINECODE', 'ParameterValue': '1'},\n",
       "    {'ParameterName': 'RESULTFORMAT', 'ParameterValue': 'JSON'},\n",
       "    {'ParameterName': 'Year', 'ParameterValue': 'LAST5'}]},\n",
       "  'Results': {'Statistic': 'Gross domestic product (GDP) by state: All industry total',\n",
       "   'UnitOfMeasure': 'Millions of current dollars',\n",
       "   'PublicTable': 'SAGDP2N Gross domestic product (GDP) by state',\n",
       "   'UTCProductionTime': '2024-10-28T16:29:01.920',\n",
       "   'NoteRef': ' ',\n",
       "   'Dimensions': [{'Name': 'Code', 'DataType': 'string', 'IsValue': '0'},\n",
       "    {'Name': 'GeoFips', 'DataType': 'string', 'IsValue': '0'},\n",
       "    {'Name': 'GeoName', 'DataType': 'string', 'IsValue': '0'},\n",
       "    {'Name': 'TimePeriod', 'DataType': 'string', 'IsValue': '0'},\n",
       "    {'Name': 'DataValue', 'DataType': 'numeric', 'IsValue': '1'},\n",
       "    {'Name': 'CL_UNIT', 'DataType': 'string', 'IsValue': '0'},\n",
       "    {'Name': 'UNIT_MULT', 'DataType': 'numeric', 'IsValue': '0'}],\n",
       "   'Data': [{'Code': 'SAGDP2N-1',\n",
       "     'GeoFips': '06000',\n",
       "     'GeoName': 'California',\n",
       "     'TimePeriod': '2019',\n",
       "     'CL_UNIT': 'Millions of current dollars',\n",
       "     'UNIT_MULT': '6',\n",
       "     'DataValue': '3068629.7'},\n",
       "    {'Code': 'SAGDP2N-1',\n",
       "     'GeoFips': '06000',\n",
       "     'GeoName': 'California',\n",
       "     'TimePeriod': '2020',\n",
       "     'CL_UNIT': 'Millions of current dollars',\n",
       "     'UNIT_MULT': '6',\n",
       "     'DataValue': '3076755.1'},\n",
       "    {'Code': 'SAGDP2N-1',\n",
       "     'GeoFips': '06000',\n",
       "     'GeoName': 'California',\n",
       "     'TimePeriod': '2021',\n",
       "     'CL_UNIT': 'Millions of current dollars',\n",
       "     'UNIT_MULT': '6',\n",
       "     'DataValue': '3423958.3'},\n",
       "    {'Code': 'SAGDP2N-1',\n",
       "     'GeoFips': '06000',\n",
       "     'GeoName': 'California',\n",
       "     'TimePeriod': '2022',\n",
       "     'CL_UNIT': 'Millions of current dollars',\n",
       "     'UNIT_MULT': '6',\n",
       "     'DataValue': '3660415.7'},\n",
       "    {'Code': 'SAGDP2N-1',\n",
       "     'GeoFips': '06000',\n",
       "     'GeoName': 'California',\n",
       "     'TimePeriod': '2023',\n",
       "     'CL_UNIT': 'Millions of current dollars',\n",
       "     'UNIT_MULT': '6',\n",
       "     'DataValue': '3870378.9'}],\n",
       "   'Notes': [{'NoteRef': ' ',\n",
       "     'NoteText': 'Last updated: September 27, 2024-- revised statistics for 2019-2023.'}]}}}"
      ]
     },
     "execution_count": 100,
     "metadata": {},
     "output_type": "execute_result"
    }
   ],
   "source": [
    "CA"
   ]
  },
  {
   "cell_type": "code",
   "execution_count": null,
   "id": "e743d4b7-bb9c-4835-87e8-3e23cae9edd8",
   "metadata": {},
   "outputs": [],
   "source": []
  }
 ],
 "metadata": {
  "kernelspec": {
   "display_name": "Python 3 (ipykernel)",
   "language": "python",
   "name": "python3"
  },
  "language_info": {
   "codemirror_mode": {
    "name": "ipython",
    "version": 3
   },
   "file_extension": ".py",
   "mimetype": "text/x-python",
   "name": "python",
   "nbconvert_exporter": "python",
   "pygments_lexer": "ipython3",
   "version": "3.10.14"
  }
 },
 "nbformat": 4,
 "nbformat_minor": 5
}

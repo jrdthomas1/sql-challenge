{
 "cells": [
  {
   "cell_type": "code",
   "execution_count": null,
   "id": "7d2727d7-d11b-4e35-b4e3-76ad9d287c9e",
   "metadata": {},
   "outputs": [],
   "source": [
    "pip install --upgrade typing_extensions\n"
   ]
  },
  {
   "cell_type": "code",
   "execution_count": null,
   "id": "d8702e45-b39f-47db-9b2c-949ae77639ca",
   "metadata": {},
   "outputs": [],
   "source": []
  }
 ],
 "metadata": {
  "kernelspec": {
   "display_name": "Python 3 (ipykernel)",
   "language": "python",
   "name": "python3"
  },
  "language_info": {
   "name": ""
  }
 },
 "nbformat": 4,
 "nbformat_minor": 5
}
